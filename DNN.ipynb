{
 "cells": [
  {
   "cell_type": "code",
   "execution_count": 19,
   "metadata": {},
   "outputs": [],
   "source": [
    "import tensorflow as tf\n",
    "import numpy as np\n",
    "\n",
    "def reset_graph(seed=42):\n",
    "    tf.reset_default_graph()\n",
    "    tf.set_random_seed(seed)\n",
    "    np.random.seed(seed)"
   ]
  },
  {
   "cell_type": "markdown",
   "metadata": {},
   "source": [
    "# 使用TensorFlow训练DNN"
   ]
  },
  {
   "cell_type": "markdown",
   "metadata": {},
   "source": [
    "### 构建阶段"
   ]
  },
  {
   "cell_type": "code",
   "execution_count": 1,
   "metadata": {},
   "outputs": [],
   "source": [
    "import tensorflow as tf\n",
    "import numpy as np"
   ]
  },
  {
   "cell_type": "code",
   "execution_count": 2,
   "metadata": {},
   "outputs": [],
   "source": [
    "n_inputs = 28 * 28\n",
    "n_hidden1 = 300\n",
    "n_hidden2 = 100\n",
    "n_outputs = 10"
   ]
  },
  {
   "cell_type": "code",
   "execution_count": 3,
   "metadata": {},
   "outputs": [],
   "source": [
    "X = tf.placeholder(tf.float32, shape=(None, n_inputs), name=\"X\")\n",
    "y = tf.placeholder(tf.int64, shape=(None), name=\"y\")"
   ]
  },
  {
   "cell_type": "code",
   "execution_count": 4,
   "metadata": {},
   "outputs": [],
   "source": [
    "def neuron_layer(X, n_neurons, name, activation=None):\n",
    "    with tf.name_scope(name):\n",
    "        n_inputs = int(X.get_shape()[1])\n",
    "        \n",
    "        stddev = 2 / np.sqrt(n_inputs)\n",
    "        init = tf.truncated_normal((n_inputs, n_neurons), stddev=stddev)\n",
    "        W = tf.Variable(init, name=\"weights\")\n",
    "        b = tf.Variable(tf.zeros([n_neurons]), name=\"biases\")\n",
    "        z = tf.matmul(X, W) + b\n",
    "        if activation == \"relu\":\n",
    "            return tf.nn.relu(z)\n",
    "        else:\n",
    "            return z"
   ]
  },
  {
   "cell_type": "code",
   "execution_count": 5,
   "metadata": {},
   "outputs": [],
   "source": [
    "with tf.name_scope(\"dnn\"):\n",
    "    hidden1 = neuron_layer(X, n_hidden1, \"hidden1\", activation=\"relu\")\n",
    "    hidden2 = neuron_layer(hidden1, n_hidden2, \"hidden2\", activation=\"relu\")\n",
    "    logits = neuron_layer(hidden2, n_outputs, \"outputs\")"
   ]
  },
  {
   "cell_type": "markdown",
   "metadata": {},
   "source": [
    "#### 用dense()替换neuron_layer()函数"
   ]
  },
  {
   "cell_type": "code",
   "execution_count": 6,
   "metadata": {},
   "outputs": [],
   "source": [
    "from tensorflow.layers import dense\n",
    "\n",
    "\"\"\"\n",
    "tf.layers.dense(\n",
    "    inputs,\n",
    "    units,\n",
    "    activation=None,\n",
    "    use_bias=True,\n",
    "    kernel_initializer=None,\n",
    "    bias_initializer=tf.zeros_initializer(),\n",
    "    kernel_regularizer=None,\n",
    "    bias_regularizer=None,\n",
    "    activity_regularizer=None,\n",
    "    kernel_constraint=None,\n",
    "    bias_constraint=None,\n",
    "    trainable=True,\n",
    "    name=None,\n",
    "    reuse=None\n",
    ")\n",
    "\"\"\"\n",
    "\n",
    "with tf.name_scope(\"dnn\"):\n",
    "    hidden1 = dense(X, n_hidden1, name=\"hidden1\", activation=tf.nn.relu)\n",
    "    hidden2 = dense(hidden1, n_hidden2, name=\"hidden2\", activation=tf.nn.relu)\n",
    "    logits = dense(hidden2, n_outputs, name=\"outputs\")"
   ]
  },
  {
   "cell_type": "code",
   "execution_count": 7,
   "metadata": {},
   "outputs": [],
   "source": [
    "with tf.name_scope(\"loss\"):\n",
    "    xentropy = tf.nn.sparse_softmax_cross_entropy_with_logits(labels=y,\n",
    "                                                              logits=logits)\n",
    "    loss = tf.reduce_mean(xentropy, name=\"loss\")"
   ]
  },
  {
   "cell_type": "code",
   "execution_count": 8,
   "metadata": {},
   "outputs": [],
   "source": [
    "learning_rate = 0.01\n",
    "\n",
    "with tf.name_scope(\"train\"):\n",
    "    optimizer = tf.train.GradientDescentOptimizer(learning_rate)\n",
    "    training_op = optimizer.minimize(loss)"
   ]
  },
  {
   "cell_type": "code",
   "execution_count": 9,
   "metadata": {},
   "outputs": [],
   "source": [
    "with tf.name_scope(\"eval\"):\n",
    "    correct = tf.nn.in_top_k(logits, y, 1)\n",
    "    accuracy = tf.reduce_mean(tf.cast(correct, tf.float32))"
   ]
  },
  {
   "cell_type": "code",
   "execution_count": 10,
   "metadata": {},
   "outputs": [],
   "source": [
    "init = tf.global_variables_initializer()\n",
    "saver = tf.train.Saver()"
   ]
  },
  {
   "cell_type": "markdown",
   "metadata": {},
   "source": [
    "# 执行阶段"
   ]
  },
  {
   "cell_type": "code",
   "execution_count": 12,
   "metadata": {},
   "outputs": [
    {
     "name": "stdout",
     "output_type": "stream",
     "text": [
      "Extracting ../dataset/mnist/train-images-idx3-ubyte.gz\n",
      "Extracting ../dataset/mnist/train-labels-idx1-ubyte.gz\n",
      "Extracting ../dataset/mnist/t10k-images-idx3-ubyte.gz\n",
      "Extracting ../dataset/mnist/t10k-labels-idx1-ubyte.gz\n"
     ]
    }
   ],
   "source": [
    "from tensorflow.examples.tutorials.mnist import input_data\n",
    "mnist = input_data.read_data_sets(\"../dataset/mnist/\")"
   ]
  },
  {
   "cell_type": "code",
   "execution_count": 13,
   "metadata": {},
   "outputs": [
    {
     "data": {
      "text/plain": [
       "55000"
      ]
     },
     "execution_count": 13,
     "metadata": {},
     "output_type": "execute_result"
    }
   ],
   "source": [
    "mnist.train.num_examples"
   ]
  },
  {
   "cell_type": "code",
   "execution_count": 14,
   "metadata": {},
   "outputs": [],
   "source": [
    "n_epochs = 40\n",
    "batch_size = 50"
   ]
  },
  {
   "cell_type": "code",
   "execution_count": 15,
   "metadata": {},
   "outputs": [
    {
     "name": "stdout",
     "output_type": "stream",
     "text": [
      "0 Train acc: 0.76 Test acc: 0.9045\n",
      "1 Train acc: 0.84 Test acc: 0.9224\n",
      "2 Train acc: 0.9 Test acc: 0.9294\n",
      "3 Train acc: 0.98 Test acc: 0.9362\n",
      "4 Train acc: 0.96 Test acc: 0.9427\n",
      "5 Train acc: 1.0 Test acc: 0.9454\n",
      "6 Train acc: 0.94 Test acc: 0.9503\n",
      "7 Train acc: 0.96 Test acc: 0.9522\n",
      "8 Train acc: 0.96 Test acc: 0.9558\n",
      "9 Train acc: 0.92 Test acc: 0.9574\n",
      "10 Train acc: 0.96 Test acc: 0.9593\n",
      "11 Train acc: 0.96 Test acc: 0.9617\n",
      "12 Train acc: 0.94 Test acc: 0.9644\n",
      "13 Train acc: 0.96 Test acc: 0.9661\n",
      "14 Train acc: 0.96 Test acc: 0.9676\n",
      "15 Train acc: 0.96 Test acc: 0.9676\n",
      "16 Train acc: 0.96 Test acc: 0.9674\n",
      "17 Train acc: 0.98 Test acc: 0.9699\n",
      "18 Train acc: 0.98 Test acc: 0.9696\n",
      "19 Train acc: 1.0 Test acc: 0.9719\n",
      "20 Train acc: 1.0 Test acc: 0.9709\n",
      "21 Train acc: 1.0 Test acc: 0.9728\n",
      "22 Train acc: 1.0 Test acc: 0.9741\n",
      "23 Train acc: 0.98 Test acc: 0.9721\n",
      "24 Train acc: 0.98 Test acc: 0.9736\n",
      "25 Train acc: 1.0 Test acc: 0.9738\n",
      "26 Train acc: 0.98 Test acc: 0.9752\n",
      "27 Train acc: 0.98 Test acc: 0.9737\n",
      "28 Train acc: 1.0 Test acc: 0.9753\n",
      "29 Train acc: 0.96 Test acc: 0.9762\n",
      "30 Train acc: 1.0 Test acc: 0.9763\n",
      "31 Train acc: 0.98 Test acc: 0.9765\n",
      "32 Train acc: 1.0 Test acc: 0.9772\n",
      "33 Train acc: 1.0 Test acc: 0.9762\n",
      "34 Train acc: 1.0 Test acc: 0.9776\n",
      "35 Train acc: 1.0 Test acc: 0.9788\n",
      "36 Train acc: 0.98 Test acc: 0.9776\n",
      "37 Train acc: 1.0 Test acc: 0.9772\n",
      "38 Train acc: 1.0 Test acc: 0.9785\n",
      "39 Train acc: 1.0 Test acc: 0.9784\n"
     ]
    }
   ],
   "source": [
    "with tf.Session() as sess:\n",
    "    init.run()\n",
    "    for epoch in range(n_epochs):\n",
    "        for iteration in range(mnist.train.num_examples // batch_size):\n",
    "            X_batch, y_batch = mnist.train.next_batch(batch_size)\n",
    "            sess.run(training_op, feed_dict={X: X_batch, y: y_batch})\n",
    "        acc_train = accuracy.eval(feed_dict={X: X_batch, y: y_batch})\n",
    "        acc_test = accuracy.eval(feed_dict={X: mnist.test.images,\n",
    "                                            y: mnist.test.labels})\n",
    "        print(epoch, \"Train acc:\", acc_train, \"Test acc:\", acc_test)\n",
    "    \n",
    "    save_path = saver.save(sess, \"./model/my_model_final.ckpt\")"
   ]
  },
  {
   "cell_type": "markdown",
   "metadata": {},
   "source": [
    "# 使用神经网络"
   ]
  },
  {
   "cell_type": "code",
   "execution_count": 16,
   "metadata": {},
   "outputs": [
    {
     "name": "stdout",
     "output_type": "stream",
     "text": [
      "INFO:tensorflow:Restoring parameters from ./model/my_model_final.ckpt\n",
      "[7 2 1 0 4 1 4 9 5 9 0 6 9 0 1 5 9 7 3 4]\n",
      "[7 2 1 0 4 1 4 9 5 9 0 6 9 0 1 5 9 7 3 4]\n"
     ]
    }
   ],
   "source": [
    "with tf.Session() as sess:\n",
    "    saver.restore(sess, \"./model/my_model_final.ckpt\")\n",
    "    X_new_scaled = mnist.test.images[:20]\n",
    "    Z = logits.eval(feed_dict={X: X_new_scaled})\n",
    "    y_pred = np.argmax(Z, axis=1)\n",
    "print(y_pred)\n",
    "print(mnist.test.labels[:20])"
   ]
  },
  {
   "cell_type": "markdown",
   "metadata": {},
   "source": [
    "# 完整代码"
   ]
  },
  {
   "cell_type": "code",
   "execution_count": 23,
   "metadata": {},
   "outputs": [],
   "source": [
    "reset_graph()"
   ]
  },
  {
   "cell_type": "code",
   "execution_count": 25,
   "metadata": {},
   "outputs": [
    {
     "name": "stdout",
     "output_type": "stream",
     "text": [
      "Extracting ../dataset/mnist/train-images-idx3-ubyte.gz\n",
      "Extracting ../dataset/mnist/train-labels-idx1-ubyte.gz\n",
      "Extracting ../dataset/mnist/t10k-images-idx3-ubyte.gz\n",
      "Extracting ../dataset/mnist/t10k-labels-idx1-ubyte.gz\n",
      "0 Train acc: 0.88 Test acc: 0.9064\n",
      "1 Train acc: 0.94 Test acc: 0.9218\n",
      "2 Train acc: 0.92 Test acc: 0.9304\n",
      "3 Train acc: 0.96 Test acc: 0.9378\n",
      "4 Train acc: 0.92 Test acc: 0.9438\n",
      "5 Train acc: 0.92 Test acc: 0.9443\n",
      "6 Train acc: 0.96 Test acc: 0.9486\n",
      "7 Train acc: 0.94 Test acc: 0.9532\n",
      "8 Train acc: 0.96 Test acc: 0.9555\n",
      "9 Train acc: 0.98 Test acc: 0.9583\n",
      "10 Train acc: 0.98 Test acc: 0.9598\n",
      "11 Train acc: 0.92 Test acc: 0.9618\n",
      "12 Train acc: 1.0 Test acc: 0.9632\n",
      "13 Train acc: 0.96 Test acc: 0.9629\n",
      "14 Train acc: 1.0 Test acc: 0.9663\n",
      "15 Train acc: 1.0 Test acc: 0.9667\n",
      "16 Train acc: 1.0 Test acc: 0.9676\n",
      "17 Train acc: 0.96 Test acc: 0.9674\n",
      "18 Train acc: 1.0 Test acc: 0.9698\n",
      "19 Train acc: 0.98 Test acc: 0.9687\n",
      "20 Train acc: 1.0 Test acc: 0.9706\n",
      "21 Train acc: 1.0 Test acc: 0.971\n",
      "22 Train acc: 1.0 Test acc: 0.971\n",
      "23 Train acc: 1.0 Test acc: 0.972\n",
      "24 Train acc: 1.0 Test acc: 0.9728\n",
      "25 Train acc: 1.0 Test acc: 0.9727\n",
      "26 Train acc: 0.98 Test acc: 0.9738\n",
      "27 Train acc: 1.0 Test acc: 0.9738\n",
      "28 Train acc: 0.98 Test acc: 0.974\n",
      "29 Train acc: 1.0 Test acc: 0.9749\n",
      "30 Train acc: 1.0 Test acc: 0.9752\n",
      "31 Train acc: 1.0 Test acc: 0.9743\n",
      "32 Train acc: 0.98 Test acc: 0.9752\n",
      "33 Train acc: 0.98 Test acc: 0.9757\n",
      "34 Train acc: 0.98 Test acc: 0.9762\n",
      "35 Train acc: 0.96 Test acc: 0.9762\n",
      "36 Train acc: 1.0 Test acc: 0.9759\n",
      "37 Train acc: 1.0 Test acc: 0.9768\n",
      "38 Train acc: 1.0 Test acc: 0.9765\n",
      "39 Train acc: 1.0 Test acc: 0.9766\n"
     ]
    }
   ],
   "source": [
    "import tensorflow as tf\n",
    "import numpy as np\n",
    "from tensorflow.examples.tutorials.mnist import input_data\n",
    "\n",
    "n_inputs = 28 * 28\n",
    "n_hidden1 = 300\n",
    "n_hidden2 = 100\n",
    "n_outputs = 10\n",
    "\n",
    "X = tf.placeholder(tf.float32, shape=(None, n_inputs), name=\"X\")\n",
    "y = tf.placeholder(tf.int64, shape=(None), name=\"y\")\n",
    "\n",
    "with tf.name_scope(\"dnn\"):\n",
    "    hidden1 = tf.layers.dense(X, n_hidden1, name=\"hidden1\", activation=tf.nn.relu)\n",
    "    hidden2 = tf.layers.dense(hidden1, n_hidden2, name=\"hidden2\", activation=tf.nn.relu)\n",
    "    logits = tf.layers.dense(hidden2, n_outputs, name=\"outputs\")\n",
    "    \n",
    "with tf.name_scope(\"loss\"):\n",
    "    xentropy = tf.nn.sparse_softmax_cross_entropy_with_logits(labels=y, logits=logits)\n",
    "    loss = tf.reduce_mean(xentropy, name=\"loss\")\n",
    "    \n",
    "learning_rate = 0.01\n",
    "\n",
    "with tf.name_scope(\"train\"):\n",
    "    optimizer = tf.train.GradientDescentOptimizer(learning_rate)\n",
    "    training_op = optimizer.minimize(loss)\n",
    "    \n",
    "with tf.name_scope(\"eval\"):\n",
    "    correct = tf.nn.in_top_k(logits, y, 1)\n",
    "    accuracy = tf.reduce_mean(tf.cast(correct, tf.float32))\n",
    "    \n",
    "init = tf.global_variables_initializer()\n",
    "saver = tf.train.Saver()\n",
    "\n",
    "mnist = input_data.read_data_sets(\"../dataset/mnist/\")\n",
    "\n",
    "n_epochs = 40\n",
    "batch_size = 50\n",
    "\n",
    "with tf.Session() as sess:\n",
    "    init.run()\n",
    "    for epoch in range(n_epochs):\n",
    "        for iteration in range(mnist.train.num_examples // batch_size):\n",
    "            X_batch, y_batch = mnist.train.next_batch(batch_size)\n",
    "            sess.run(training_op, feed_dict={X: X_batch, y: y_batch})\n",
    "        acc_train = accuracy.eval(feed_dict={X: X_batch, y: y_batch})\n",
    "        acc_test = accuracy.eval(feed_dict={X: mnist.test.images,\n",
    "                                            y: mnist.test.labels})\n",
    "        print(epoch, \"Train acc:\", acc_train, \"Test acc:\", acc_test)\n",
    "    \n",
    "    #save_path = saver.save(sess, \"./model/my_model_final.ckpt\")"
   ]
  },
  {
   "cell_type": "code",
   "execution_count": null,
   "metadata": {},
   "outputs": [],
   "source": []
  }
 ],
 "metadata": {
  "kernelspec": {
   "display_name": "Python 3",
   "language": "python",
   "name": "python3"
  },
  "language_info": {
   "codemirror_mode": {
    "name": "ipython",
    "version": 3
   },
   "file_extension": ".py",
   "mimetype": "text/x-python",
   "name": "python",
   "nbconvert_exporter": "python",
   "pygments_lexer": "ipython3",
   "version": "3.5.6"
  }
 },
 "nbformat": 4,
 "nbformat_minor": 2
}
